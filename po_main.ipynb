{
  "nbformat": 4,
  "nbformat_minor": 0,
  "metadata": {
    "colab": {
      "provenance": []
    },
    "kernelspec": {
      "name": "python3",
      "display_name": "Python 3"
    },
    "language_info": {
      "name": "python"
    }
  },
  "cells": [
    {
      "cell_type": "code",
      "source": [
        "import pandas as pd"
      ],
      "metadata": {
        "id": "RbQ_i4DmJT3m"
      },
      "execution_count": 1,
      "outputs": []
    },
    {
      "cell_type": "code",
      "source": [
        "data = pd.read_csv('/content/data.csv')"
      ],
      "metadata": {
        "id": "_jdoSjziJXdI"
      },
      "execution_count": 2,
      "outputs": []
    },
    {
      "cell_type": "code",
      "source": [
        "print(data.head())"
      ],
      "metadata": {
        "colab": {
          "base_uri": "https://localhost:8080/"
        },
        "id": "aBY7yQ1wJge7",
        "outputId": "8e21336f-52fc-4683-db92-045c30651ff9"
      },
      "execution_count": 3,
      "outputs": [
        {
          "output_type": "stream",
          "name": "stdout",
          "text": [
            "         date    id  sku_id  price                             sku_name  \\\n",
            "0  24-05-2020   400       0    1.9  jeans_female_brand_2_P_middle_sport   \n",
            "1  24-05-2020   800       0    1.9  jeans_female_brand_2_P_middle_sport   \n",
            "2  24-05-2020  1200       0    1.9  jeans_female_brand_2_P_middle_sport   \n",
            "3  24-05-2020  1600       0    1.9  jeans_female_brand_2_P_middle_sport   \n",
            "4  24-05-2020  2000       0    1.9  jeans_female_brand_2_P_middle_sport   \n",
            "\n",
            "   gender category    brand collection price_tier  style   cost  sales  \n",
            "0  female    jeans  brand_2          P     middle  sport  43.63  577.0  \n",
            "1  female    jeans  brand_2          P     middle  sport  43.63  545.0  \n",
            "2  female    jeans  brand_2          P     middle  sport  43.63  565.0  \n",
            "3  female    jeans  brand_2          P     middle  sport  43.63  536.0  \n",
            "4  female    jeans  brand_2          P     middle  sport  43.63  568.0  \n"
          ]
        }
      ]
    },
    {
      "cell_type": "code",
      "source": [
        "import pandas as pd\n",
        "from sklearn.model_selection import train_test_split\n",
        "from sklearn.linear_model import LinearRegression\n",
        "from sklearn.metrics import mean_squared_error"
      ],
      "metadata": {
        "id": "5o-If_pAJkP1"
      },
      "execution_count": 4,
      "outputs": []
    },
    {
      "cell_type": "code",
      "source": [
        "# Function to preprocess the data and extract features\n",
        "def preprocess_data(data):\n",
        "    # Here, you can preprocess the data, select relevant features,\n",
        "    # handle missing values, and encode categorical variables\n",
        "    # For simplicity, let's select 'cost' as a feature\n",
        "    X = data[['cost']]  # Selecting 'cost' as the feature\n",
        "    y = data['price']   # Selecting 'price' as the target variable\n",
        "    return X, y"
      ],
      "metadata": {
        "id": "UxfFFK6-Kqtk"
      },
      "execution_count": 5,
      "outputs": []
    },
    {
      "cell_type": "code",
      "source": [
        "# Main function to recommend price using OLS technique\n",
        "def RecommendPrice_OLS(sku_id, data):\n",
        "    # Filter data based on sku_id if necessary\n",
        "    filtered_data = data[data['sku_id'] == sku_id]\n",
        "\n",
        "    # Preprocess the filtered data\n",
        "    X, y = preprocess_data(filtered_data)\n",
        "\n",
        "    # Split data into train and test sets\n",
        "    X_train, X_test, y_train, y_test = train_test_split(X, y, test_size=0.2, random_state=42)\n",
        "\n",
        "    # Train OLS model\n",
        "    ols_model = LinearRegression()\n",
        "    ols_model.fit(X_train, y_train)\n",
        "\n",
        "    # Make predictions\n",
        "    y_pred = ols_model.predict(X_test)\n",
        "\n",
        "    # Evaluate model performance\n",
        "    rmse = mean_squared_error(y_test, y_pred, squared=False)\n",
        "\n",
        "    # Print and return results\n",
        "    print(\"Root Mean Squared Error (RMSE) using OLS technique:\", rmse)\n",
        "\n",
        "    # Return recommended price (example: using first test data point)\n",
        "    recommended_price = ols_model.predict([X_test.iloc[0]])[0]\n",
        "    return recommended_price"
      ],
      "metadata": {
        "id": "HmnuhEpFKtlf"
      },
      "execution_count": 6,
      "outputs": []
    },
    {
      "cell_type": "code",
      "source": [
        "# Example usage\n",
        "sku_id = 0\n",
        "recommended_price_ols = RecommendPrice_OLS(sku_id, data)\n",
        "print(\"Recommended Price using OLS technique:\", recommended_price_ols)"
      ],
      "metadata": {
        "colab": {
          "base_uri": "https://localhost:8080/"
        },
        "id": "n9grvJSNKw2V",
        "outputId": "ecbcc563-e5bc-4a43-86b0-35d44c92396d"
      },
      "execution_count": 7,
      "outputs": [
        {
          "output_type": "stream",
          "name": "stdout",
          "text": [
            "Root Mean Squared Error (RMSE) using OLS technique: 0.4293483918360292\n",
            "Recommended Price using OLS technique: 1.8646825396825397\n"
          ]
        },
        {
          "output_type": "stream",
          "name": "stderr",
          "text": [
            "/usr/local/lib/python3.10/dist-packages/sklearn/base.py:439: UserWarning: X does not have valid feature names, but LinearRegression was fitted with feature names\n",
            "  warnings.warn(\n"
          ]
        }
      ]
    },
    {
      "cell_type": "code",
      "source": [
        "import pandas as pd\n",
        "from sklearn.model_selection import train_test_split\n",
        "from sklearn.preprocessing import StandardScaler\n",
        "from sklearn.neural_network import MLPRegressor\n",
        "from sklearn.metrics import mean_squared_error"
      ],
      "metadata": {
        "id": "pSZyeEg1LjZs"
      },
      "execution_count": 8,
      "outputs": []
    },
    {
      "cell_type": "code",
      "source": [
        "# Function to preprocess the data and extract features\n",
        "def preprocess_data(data):\n",
        "    # Here, you can preprocess the data, select relevant features,\n",
        "    # handle missing values, and encode categorical variables\n",
        "    # For simplicity, let's select 'cost' as a feature\n",
        "    X = data[['cost']]  # Selecting 'cost' as the feature\n",
        "    y = data['price']   # Selecting 'price' as the target variable\n",
        "    return X, y"
      ],
      "metadata": {
        "id": "_ku9iQf8LpK4"
      },
      "execution_count": 9,
      "outputs": []
    },
    {
      "cell_type": "code",
      "source": [
        "# Main function to train and evaluate Neural Network models one by one\n",
        "def RecommendPrice_NeuralNetworks(sku_id, data):\n",
        "    # Filter data based on sku_id if necessary\n",
        "    filtered_data = data[data['sku_id'] == sku_id]\n",
        "\n",
        "    # Preprocess the filtered data\n",
        "    X, y = preprocess_data(filtered_data)\n",
        "\n",
        "    # Split data into train and test sets\n",
        "    X_train, X_test, y_train, y_test = train_test_split(X, y, test_size=0.2, random_state=42)\n",
        "\n",
        "    # Standardize features\n",
        "    scaler = StandardScaler()\n",
        "    X_train_scaled = scaler.fit_transform(X_train)\n",
        "    X_test_scaled = scaler.transform(X_test)\n",
        "\n",
        "    # Train first Neural Network model\n",
        "    model1 = MLPRegressor(hidden_layer_sizes=(100,50), max_iter=500)\n",
        "    model1.fit(X_train_scaled, y_train)\n",
        "\n",
        "    # Evaluate first model\n",
        "    y_pred1 = model1.predict(X_test_scaled)\n",
        "    rmse1 = mean_squared_error(y_test, y_pred1, squared=False)\n",
        "    print(\"RMSE for Model 1:\", rmse1)\n",
        "\n",
        "    # Train second Neural Network model\n",
        "    model2 = MLPRegressor(hidden_layer_sizes=(50,50,50), max_iter=500)\n",
        "    model2.fit(X_train_scaled, y_train)\n",
        "\n",
        "    # Evaluate second model\n",
        "    y_pred2 = model2.predict(X_test_scaled)\n",
        "    rmse2 = mean_squared_error(y_test, y_pred2, squared=False)\n",
        "    print(\"RMSE for Model 2:\", rmse2)\n",
        "\n",
        "    # Train third Neural Network model\n",
        "    model3 = MLPRegressor(hidden_layer_sizes=(200,100,50), max_iter=500)\n",
        "    model3.fit(X_train_scaled, y_train)\n",
        "\n",
        "    # Evaluate third model\n",
        "    y_pred3 = model3.predict(X_test_scaled)\n",
        "    rmse3 = mean_squared_error(y_test, y_pred3, squared=False)\n",
        "    print(\"RMSE for Model 3:\", rmse3)\n",
        "\n",
        "    # Compare performances and select the best model\n",
        "    best_model = None\n",
        "    best_rmse = float('inf')\n",
        "    for name, model, rmse in [('Model 1', model1, rmse1), ('Model 2', model2, rmse2), ('Model 3', model3, rmse3)]:\n",
        "        if rmse < best_rmse:\n",
        "            best_model = model\n",
        "            best_rmse = rmse\n",
        "            best_model_name = name\n",
        "\n",
        "    # Print and return results\n",
        "    print(\"Best Model:\", best_model_name)\n",
        "\n",
        "    # Return recommended price using the best model (example: using first test data point)\n",
        "    recommended_price = best_model.predict([X_test_scaled[0]])[0]\n",
        "    return recommended_price"
      ],
      "metadata": {
        "id": "hzOShzUNLsz1"
      },
      "execution_count": 10,
      "outputs": []
    },
    {
      "cell_type": "code",
      "source": [
        "# Example usage\n",
        "sku_id = 0\n",
        "recommended_price_nn = RecommendPrice_NeuralNetworks(sku_id, data)\n",
        "print(\"Recommended Price using Neural Network:\", recommended_price_nn)"
      ],
      "metadata": {
        "colab": {
          "base_uri": "https://localhost:8080/"
        },
        "id": "PpWyBeIjLwl5",
        "outputId": "ba7bd1f5-39c1-457a-da3c-ae41d9c81548"
      },
      "execution_count": 11,
      "outputs": [
        {
          "output_type": "stream",
          "name": "stdout",
          "text": [
            "RMSE for Model 1: 0.4278084021913238\n",
            "RMSE for Model 2: 0.4275429830173981\n",
            "RMSE for Model 3: 0.42797640442428875\n",
            "Best Model: Model 2\n",
            "Recommended Price using Neural Network: 1.8748232203562587\n"
          ]
        }
      ]
    },
    {
      "cell_type": "code",
      "source": [
        "import pandas as pd\n",
        "from sklearn.model_selection import train_test_split\n",
        "from sklearn.preprocessing import StandardScaler\n",
        "from sklearn.neural_network import MLPRegressor\n",
        "from sklearn.metrics import mean_squared_error"
      ],
      "metadata": {
        "id": "py2jrShgMi45"
      },
      "execution_count": 12,
      "outputs": []
    },
    {
      "cell_type": "code",
      "source": [
        "# Function to preprocess the data and extract features\n",
        "def preprocess_data(data):\n",
        "    # Here, you can preprocess the data, select relevant features,\n",
        "    # handle missing values, and encode categorical variables\n",
        "    # For simplicity, let's select 'cost' as a feature\n",
        "    X = data[['cost']]  # Selecting 'cost' as the feature\n",
        "    y = data['price']   # Selecting 'price' as the target variable\n",
        "    return X, y"
      ],
      "metadata": {
        "id": "h_1-XoxhMp8v"
      },
      "execution_count": 13,
      "outputs": []
    },
    {
      "cell_type": "code",
      "source": [
        "# Main interface function to recommend price\n",
        "def RecommendPrice(itemID, data_path, Time, Date):\n",
        "    # Filter data based on id, time, and date if necessary\n",
        "    filtered_data = data[data['id'] == itemID]\n",
        "\n",
        "    # Preprocess the filtered data\n",
        "    X, y = preprocess_data(filtered_data)\n",
        "\n",
        "    # Split data into train and test sets\n",
        "    X_train, X_test, y_train, y_test = train_test_split(X, y, test_size=0.2, random_state=42)\n",
        "\n",
        "    # Standardize features\n",
        "    scaler = StandardScaler()\n",
        "    X_train_scaled = scaler.fit_transform(X_train)\n",
        "    X_test_scaled = scaler.transform(X_test)\n",
        "\n",
        "    # Train a Neural Network model\n",
        "    nn_model = MLPRegressor(hidden_layer_sizes=(100,50), max_iter=500)\n",
        "    nn_model.fit(X_train_scaled, y_train)\n",
        "\n",
        "    # Make predictions\n",
        "    y_pred = nn_model.predict(X_test_scaled)\n",
        "\n",
        "    # Evaluate model performance\n",
        "    rmse = mean_squared_error(y_test, y_pred, squared=False)\n",
        "    print(\"Root Mean Squared Error (RMSE):\", rmse)\n",
        "\n",
        "    # Return recommended price (example: using first test data point)\n",
        "    recommended_price = nn_model.predict([X_test_scaled[0]])[0]\n",
        "    return recommended_price"
      ],
      "metadata": {
        "id": "y_4jR1U8Mswj"
      },
      "execution_count": 14,
      "outputs": []
    },
    {
      "cell_type": "code",
      "source": [
        "# Example usage\n",
        "id = 400\n",
        "time = \"09:00\"\n",
        "date = \"24-05-2020\"\n",
        "recommended_price = RecommendPrice(id, data, time, date)\n",
        "print(\"Recommended Price:\", recommended_price)"
      ],
      "metadata": {
        "colab": {
          "base_uri": "https://localhost:8080/"
        },
        "id": "Rhmaa67DM3Ru",
        "outputId": "92cfd2ea-a1f1-410d-ec6c-c8450b9a7424"
      },
      "execution_count": 15,
      "outputs": [
        {
          "output_type": "stream",
          "name": "stdout",
          "text": [
            "Root Mean Squared Error (RMSE): 0.4608361779341403\n",
            "Recommended Price: 1.758537527761808\n"
          ]
        }
      ]
    }
  ]
}